{
  "nbformat": 4,
  "nbformat_minor": 0,
  "metadata": {
    "colab": {
      "name": "DMP_TRAINING_VALIDATION_TESTING.ipynb",
      "private_outputs": true,
      "provenance": [],
      "collapsed_sections": [],
      "machine_shape": "hm"
    },
    "kernelspec": {
      "name": "python3",
      "display_name": "Python 3"
    },
    "language_info": {
      "name": "python"
    },
    "accelerator": "GPU"
  },
  "cells": [
    {
      "cell_type": "code",
      "metadata": {
        "id": "-ZS6s0ScS_ne"
      },
      "source": [
        "import numpy as np\n",
        "\n",
        "from PIL import Image, ImageOps\n",
        "\n",
        "import matplotlib.pyplot as plt\n",
        "\n",
        "import h5py\n",
        "\n",
        "from datetime import datetime"
      ],
      "execution_count": null,
      "outputs": []
    },
    {
      "cell_type": "code",
      "metadata": {
        "id": "NpIhT22ZEvlY"
      },
      "source": [
        "import tensorflow as tf\n",
        "\n",
        "tf.config.get_visible_devices('GPU')    "
      ],
      "execution_count": null,
      "outputs": []
    },
    {
      "cell_type": "code",
      "metadata": {
        "id": "W7Af2GQaoTdt"
      },
      "source": [
        "import pandas as pd  \n",
        "import numpy as np  \n",
        "import matplotlib.pyplot as plt  \n",
        "import seaborn as seabornInstance \n",
        "from sklearn.model_selection import train_test_split \n",
        "from sklearn.linear_model import LinearRegression\n",
        "from sklearn import metrics"
      ],
      "execution_count": null,
      "outputs": []
    },
    {
      "cell_type": "code",
      "metadata": {
        "id": "EEeRA-w2oigD"
      },
      "source": [
        "#@title uploader\n",
        "DIR = \"18v2b6y59OqMo56enQa-j5oXLvoESG5jm\" #@param {type:\"string\"}\n",
        "!pip install -U -q PyDrive\n",
        "\n",
        "from pydrive.auth import GoogleAuth\n",
        "from pydrive.drive import GoogleDrive\n",
        "from google.colab import auth\n",
        "from oauth2client.client import GoogleCredentials\n",
        "\n",
        "# 1. Authenticate and create the PyDrive client.\n",
        "auth.authenticate_user()\n",
        "gauth = GoogleAuth()\n",
        "gauth.credentials = GoogleCredentials.get_application_default()\n",
        "drive = GoogleDrive(gauth)\n",
        "\n",
        "# PyDrive reference:\n",
        "# https://googledrive.github.io/PyDrive/docs/build/html/index.html\n",
        "\n",
        "\n",
        "from google.colab import auth\n",
        "auth.authenticate_user()\n",
        "\n",
        "from googleapiclient.discovery import build\n",
        "drive_service = build('drive', 'v3')\n",
        "\n",
        "# Replace the assignment below with your file ID\n",
        "# to download a different file.\n",
        "#\n",
        "# A file ID looks like: 1gLBqEWEBQDYbKCDigHnUXNTkzl-OslSO\n",
        "\n",
        "import io\n",
        "from googleapiclient.http import MediaIoBaseDownload\n",
        "\n",
        "request = drive_service.files().get_media(fileId=DIR)\n",
        "downloaded = io.BytesIO()\n",
        "downloader = MediaIoBaseDownload(downloaded, request)\n",
        "done = False\n",
        "while done is False:\n",
        "  # _ is a placeholder for a progress object that we ignore.\n",
        "  # (Our file is small, so we skip reporting progress.)\n",
        "  _, done = downloader.next_chunk()\n",
        "\n",
        "fileId = drive.CreateFile({'id': DIR }) #DRIVE_FILE_ID is file id example: 1iytA1n2z4go3uVCwE_vIKouTKyIDjEq\n",
        "print(fileId['title'])  \n",
        "fileId.GetContentFile(fileId['title'])  # Save Drive file as a local file\n",
        "\n",
        "!unzip {fileId['title']}"
      ],
      "execution_count": null,
      "outputs": []
    },
    {
      "cell_type": "code",
      "metadata": {
        "id": "lAAfbUaoTQ_b"
      },
      "source": [
        "P = []*0\n",
        "\n",
        "DIR = \"/content/data.h5\"\n",
        "\n",
        "files = h5py.File(DIR, 'r')\n",
        "\n",
        "predcat, predsubcat = \"c2\", \"031_002\"\n",
        "\n",
        "#predimg = np.array([1])\n",
        "\n",
        "predimg = np.array(files[\"c2\"][\"031_002\"][100:201, 100:200, :-1].flatten())\n",
        "\n",
        "labels = []*0\n",
        "\n",
        "x_rgb, y_label = []*0, []*0\n",
        "\n",
        "for category in files.keys():\n",
        "\n",
        "    for subcategory in files[category].keys():         \n",
        "\n",
        "        if subcategory[:3] not in labels:\n",
        "\n",
        "            labels.append(subcategory[:3])\n",
        "\n",
        "        #dmpimg = np.array([1])\n",
        "\n",
        "        dmpimg = np.array(files[category][subcategory][100:201, 100:200, :-1].flatten())\n",
        "        \n",
        "        x_rgb.append(dmpimg)\n",
        "        \n",
        "        y_label.append(files[category][subcategory][100:201, 100:200, -1][-1][-1])\n",
        "\n",
        "x_rgb = np.array(x_rgb, dtype = np.uint8)\n",
        "\n",
        "x_rgb2 = x_rgb\n",
        "\n",
        "y_label = np.array(y_label)\n",
        "\n",
        "from sklearn.utils import shuffle\n",
        "\n",
        "x_rgb2 = shuffle(x_rgb2, random_state=0)\n",
        "\n",
        "x_test = x_rgb2[:50]\n",
        "\n",
        "y_test = []*0\n",
        "\n",
        "for i in x_test:\n",
        "\n",
        "    for j in range(x_rgb.shape[0]):\n",
        "\n",
        "        if np.array_equal(i, x_rgb[j]) == True:\n",
        "\n",
        "            y_test.append(y_label[j])\n",
        "\n",
        "            break\n",
        "\n",
        "print(x_test.shape[0], len(y_test))"
      ],
      "execution_count": null,
      "outputs": []
    },
    {
      "cell_type": "code",
      "metadata": {
        "id": "QIbH6aKooYg-"
      },
      "source": [
        "regressor = LinearRegression()  \n",
        "regressor.fit(x_rgb, y_label) "
      ],
      "execution_count": null,
      "outputs": []
    },
    {
      "cell_type": "code",
      "metadata": {
        "id": "5y3oYG3-ojGp"
      },
      "source": [
        "#To retrieve the intercept:\n",
        "print(regressor.intercept_)\n",
        "\n",
        "#For retrieving the slope:\n",
        "print(regressor.coef_)"
      ],
      "execution_count": null,
      "outputs": []
    },
    {
      "cell_type": "code",
      "metadata": {
        "id": "YJp2hGpIonKz"
      },
      "source": [
        "y_pred = regressor.predict(x_rgb)\n",
        "y_pred = np.round(y_pred)\n",
        "\n",
        "print(np.array(list(zip(y_label, y_pred))))"
      ],
      "execution_count": null,
      "outputs": []
    },
    {
      "cell_type": "code",
      "metadata": {
        "id": "ICqPRyq7tfo-"
      },
      "source": [
        "y_pred = regressor.predict(x_test)\n",
        "y_pred = np.round(y_pred)\n",
        "print(np.array(list(zip(y_test, y_pred))))"
      ],
      "execution_count": null,
      "outputs": []
    },
    {
      "cell_type": "markdown",
      "metadata": {
        "id": "seve2AMo4TrM"
      },
      "source": [
        "#PREDICTION/CONFUSION MATRIX"
      ]
    },
    {
      "cell_type": "code",
      "metadata": {
        "id": "nKSS536D4YdE"
      },
      "source": [
        "from sklearn.metrics import confusion_matrix,classification_report\n",
        "\n",
        "predictions = regressor.predict(x_test)\n",
        "\n",
        "y_pred = np.round(predictions)\n",
        "\n",
        "true_classes = y_test\n",
        "\n",
        "class_labels = y_pred\n",
        "\n",
        "print(class_labels)\n",
        "\n",
        "print(confusion_matrix(true_classes, y_pred))\n",
        "\n",
        "report = classification_report(true_classes, y_pred, zero_division=1)\n",
        "\n",
        "print(report)"
      ],
      "execution_count": null,
      "outputs": []
    }
  ]
}